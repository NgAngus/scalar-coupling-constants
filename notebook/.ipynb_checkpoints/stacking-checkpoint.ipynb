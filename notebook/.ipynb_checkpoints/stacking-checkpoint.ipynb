{
 "cells": [
  {
   "cell_type": "code",
   "execution_count": 1,
   "metadata": {
    "_cell_guid": "b1076dfc-b9ad-4769-8c92-a6c4dae69d19",
    "_uuid": "8f2839f25d086af736a60e9eeb907d3b93b6e0e5",
    "scrolled": true
   },
   "outputs": [],
   "source": [
    "import numpy as np\n",
    "import pandas as pd\n",
    "import matplotlib.pyplot as plt\n",
    "import seaborn as sns\n",
    "%matplotlib inline\n",
    "\n",
    "from tools import *\n",
    "\n",
    "import os\n",
    "import warnings\n",
    "warnings.filterwarnings('ignore')\n",
    "\n",
    "import gc\n",
    "import joblib\n",
    "\n",
    "# Random Forest\n",
    "from sklearn.ensemble import RandomForestRegressor\n",
    "from sklearn.metrics import mean_absolute_error\n",
    "from sklearn.model_selection import GroupShuffleSplit, cross_val_score"
   ]
  },
  {
   "cell_type": "code",
   "execution_count": 2,
   "metadata": {},
   "outputs": [],
   "source": [
    "CACHE_PATH = '/Users/angus/Downloads/kaggle/'\n",
    "cpath = lambda x: CACHE_PATH + x"
   ]
  },
  {
   "cell_type": "code",
   "execution_count": 3,
   "metadata": {},
   "outputs": [],
   "source": [
    "df = pd.read_pickle(cpath('df_feats_enc.pkl'))\n",
    "df_structures = pd.read_csv('../input/structures.csv');"
   ]
  },
  {
   "cell_type": "code",
   "execution_count": 4,
   "metadata": {
    "scrolled": true
   },
   "outputs": [
    {
     "name": "stdout",
     "output_type": "stream",
     "text": [
      "CPU times: user 2.83 s, sys: 3.4 s, total: 6.23 s\n",
      "Wall time: 6.37 s\n"
     ]
    }
   ],
   "source": [
    "%time last_model = joblib.load(cpath('latest_model.joblib'))"
   ]
  },
  {
   "cell_type": "code",
   "execution_count": 18,
   "metadata": {},
   "outputs": [],
   "source": [
    "df = get_portion(df, r=0.1)"
   ]
  },
  {
   "cell_type": "markdown",
   "metadata": {},
   "source": [
    "# Feature Selection"
   ]
  },
  {
   "cell_type": "code",
   "execution_count": 30,
   "metadata": {},
   "outputs": [],
   "source": [
    "feats = [\n",
    "#     'molecule_name', 'atom_index_0', 'atom_index_1', 'scalar_coupling_constant',\n",
    "#     'fc', 'sd', 'pso', 'dso',\n",
    "#     'mulliken_charge',\n",
    "#     'dip_x', 'dip_y', 'dip_z',\n",
    "#     'potential_energy',\n",
    "#     'XX', 'YX', 'ZX', 'XY','YY', 'ZY', 'XZ', 'YZ', 'ZZ',\n",
    "#     'atom_0',\n",
    "    'x_0', 'y_0', 'z_0', 'x_1', 'y_1', 'z_1',\n",
    "    'dist',\n",
    "#     'n_C', 'n_H', 'n_N',\n",
    "    'mol_min_dist', 'mol_max_dist', 'mol_mean_dist', 'mol_med_dist', 'mol_kur_dist', 'mol_std_dist',\n",
    "    'atom_0_min_dist', 'atom_0_max_dist', 'atom_0_mean_dist', 'atom_0_med_dist', 'atom_0_kur_dist', 'atom_0_std_dist',\n",
    "    'atom_1_min_dist', 'atom_1_max_dist', 'atom_1_mean_dist', 'atom_1_med_dist', 'atom_1_kur_dist', 'atom_1_std_dist',\n",
    "    'nearby_C', 'nearby_H', 'nearby_N',\n",
    "    'nearby_C', 'nearby_H', 'nearby_N',\n",
    "    'type',\n",
    "    'atom_1',\n",
    "]\n",
    "meta_feats = ['fc_pred', 'sd_pred', 'pso_pred', 'dso_pred']\n",
    "categoricals = ['type', 'atom_1']\n",
    "info_cols = ['molecule_name', 'atom_index_0', 'atom_index_1', 'scalar_coupling_constant']\n",
    "feats = list(set(feats) - set(categoricals) - set(info_cols))"
   ]
  },
  {
   "cell_type": "code",
   "execution_count": 29,
   "metadata": {},
   "outputs": [
    {
     "name": "stdout",
     "output_type": "stream",
     "text": [
      "TARGET: fc\n",
      "FEATURES (n = 28):\n",
      "z_0                 atom_0_mean_dist    atom_0_std_dist\n",
      "atom_0_min_dist     atom_1_min_dist     atom_1_med_dist\n",
      "nearby_C            nearby_N            x_0\n",
      "mol_max_dist        atom_1_max_dist     x_1\n",
      "atom_1_std_dist     mol_std_dist        mol_min_dist\n",
      "atom_1_mean_dist    dist                atom_0_med_dist\n",
      "atom_0_kur_dist     atom_0_max_dist     nearby_H\n",
      "mol_mean_dist       y_0                 z_1\n",
      "atom_1_kur_dist     y_1                 mol_med_dist\n",
      "---------------------------------------------------------------------------\n",
      "Returning model to generate fc.\n",
      "0.1818044329818003\n",
      "CPU times: user 3min 32s, sys: 2.62 s, total: 3min 35s\n",
      "Wall time: 1min 11s\n"
     ]
    }
   ],
   "source": [
    "%%time\n",
    "target = 'fc'\n",
    "X = df.loc[:, feats + ['molecule_name']]\n",
    "y = df.loc[:, [target]]\n",
    "\n",
    "fc_model = constant_model(X, feats, target)\n",
    "df[f\"{target}_pred\"] = fc_model.predict(X[feats])\n",
    "importances(feats, fc_model)\n",
    "del fc_model\n",
    "gc.collect()"
   ]
  },
  {
   "cell_type": "markdown",
   "metadata": {},
   "source": [
    "# Predicting Constants - Out-of-fold Features"
   ]
  },
  {
   "cell_type": "code",
   "execution_count": 14,
   "metadata": {},
   "outputs": [],
   "source": [
    "def constant_model(X, feats, constant, verbose=True):\n",
    "    assert constant in df.columns\n",
    "    if verbose:\n",
    "        print('TARGET:', constant)\n",
    "        print(f'FEATURES (n = {len(X.columns)}):')\n",
    "        plist(X.columns)\n",
    "        print(75*'-')\n",
    "    print(f'Returning model to generate {constant}.')\n",
    "    rf = RandomForestRegressor(n_jobs=-1)\n",
    "    gss = GroupShuffleSplit(n_splits=3)\n",
    "    scores = cross_val_score(rf, X[feats], y, scoring='neg_mean_absolute_error',\n",
    "                            groups=X['molecule_name'], cv=gss, n_jobs=-1)\n",
    "    rf.fit(X[feats], y)\n",
    "    print(np.mean(np.log(-scores)))\n",
    "    return rf"
   ]
  },
  {
   "cell_type": "code",
   "execution_count": null,
   "metadata": {},
   "outputs": [],
   "source": [
    "%%time\n",
    "X_final = featurize(pd.read_csv('../input/test.csv'), df_structures, categoricals)\n",
    "X_final = reduce_mem_usage(X_final)\n",
    "gc.collect()"
   ]
  },
  {
   "cell_type": "code",
   "execution_count": null,
   "metadata": {},
   "outputs": [],
   "source": [
    "# Split for training meta-features\n",
    "X = df.loc[:, feats + ['molecule_name']]"
   ]
  },
  {
   "cell_type": "code",
   "execution_count": null,
   "metadata": {
    "scrolled": true
   },
   "outputs": [],
   "source": [
    "target = 'fc'\n",
    "y = df.loc[:, [target]]\n",
    "%time fc_model = constant_model(X, feats, target)\n",
    "df[f\"{target}_pred\"] = fc_model.predict(X[feats])\n",
    "X_final[f\"{target}_pred\"] = fc_model.predict(X_final[feats])\n",
    "importances(feats, fc_model)\n",
    "del fc_model\n",
    "gc.collect()"
   ]
  },
  {
   "cell_type": "code",
   "execution_count": null,
   "metadata": {
    "scrolled": true
   },
   "outputs": [],
   "source": [
    "target = 'sd'\n",
    "y = df.loc[:, [target]]\n",
    "%time sd_model = constant_model(X, feats, target)\n",
    "# save_model(sd_model, 'sd_model')\n",
    "# Generate Meta-Feature on Train Data\n",
    "df[f\"{target}_pred\"] = sd_model.predict(X[feats])\n",
    "# Generate Meta-Feature on Submission Data\n",
    "X_final[f\"{target}_pred\"] = sd_model.predict(X_final[feats])\n",
    "del sd_model\n",
    "gc.collect()"
   ]
  },
  {
   "cell_type": "code",
   "execution_count": null,
   "metadata": {
    "scrolled": true
   },
   "outputs": [],
   "source": [
    "target = 'pso'\n",
    "y = df.loc[:, [target]]\n",
    "%time pso_model = constant_model(X, feats, target)\n",
    "save_model(pso_model, 'pso_model')\n",
    "# Generate Meta-Feature on Train Data\n",
    "df[f\"{target}_pred\"] = pso_model.predict(X[feats])\n",
    "# Generate Meta-Feature on Submission Data\n",
    "X_final[f\"{target}_pred\"] = pso_model.predict(X_final[feats])\n",
    "del pso_model\n",
    "gc.collect()"
   ]
  },
  {
   "cell_type": "code",
   "execution_count": null,
   "metadata": {
    "scrolled": true
   },
   "outputs": [],
   "source": [
    "target = 'dso'\n",
    "y = df.loc[:, [target]]\n",
    "%time dso_model = constant_model(X, feats, target)\n",
    "# save_model(dso_model, 'dso_model')\n",
    "# Generate Meta-Feature on Train Data\n",
    "df[f\"{target}_pred\"] = dso_model.predict(X[feats])\n",
    "# Generate Meta-Feature on Submission Data\n",
    "X_final[f\"{target}_pred\"] = dso_model.predict(X_final[feats])\n",
    "del dso_model\n",
    "gc.collect()"
   ]
  },
  {
   "cell_type": "code",
   "execution_count": null,
   "metadata": {},
   "outputs": [],
   "source": [
    "meta_feats = ['fc_pred', 'sd_pred', 'pso_pred', 'dso_pred']\n",
    "meta_orig = ['fc', 'sd', 'pso', 'dso']"
   ]
  },
  {
   "cell_type": "code",
   "execution_count": null,
   "metadata": {},
   "outputs": [],
   "source": [
    "del X, y\n",
    "gc.collect()"
   ]
  },
  {
   "cell_type": "markdown",
   "metadata": {},
   "source": [
    "## Train Model (Scalar Coupling Constant) using meta-feats to see if overfitting"
   ]
  },
  {
   "cell_type": "code",
   "execution_count": null,
   "metadata": {
    "scrolled": true
   },
   "outputs": [],
   "source": [
    "%%time\n",
    "# Split Target\n",
    "final_targ = ['scalar_coupling_constant']\n",
    "# Reduce Memory\n",
    "df = reduce_mem_usage(df)\n",
    "X_ = df.loc[:, feats + meta_feats + ['molecule_name']]\n",
    "y_ = df.loc[:, final_targ]\n",
    "gc.collect()"
   ]
  },
  {
   "cell_type": "code",
   "execution_count": null,
   "metadata": {},
   "outputs": [],
   "source": [
    "model = RandomForestRegressor(n_jobs=-1)\n",
    "gss = GroupShuffleSplit(n_splits=3)\n",
    "train_idxs, test_idxs = next(gss.split(X_['molecule_name'], y_, groups=X_['molecule_name']))\n",
    "X_train, X_test, y_train, y_test = X_.iloc[train_idxs], X_.iloc[test_idxs], y_.iloc[train_idxs], y_.iloc[test_idxs]"
   ]
  },
  {
   "cell_type": "code",
   "execution_count": null,
   "metadata": {
    "scrolled": true
   },
   "outputs": [],
   "source": [
    "%%time\n",
    "model.fit(X_train[feats + meta_feats], y_train)\n",
    "y_pred = model.predict(X_test[feats + meta_feats])\n",
    "print(np.log(mean_absolute_error(y_test, y_pred)))"
   ]
  },
  {
   "cell_type": "code",
   "execution_count": null,
   "metadata": {},
   "outputs": [],
   "source": [
    "%%time\n",
    "# Retrain on all data to save for later analysis\n",
    "model.fit(X_[feats + meta_feats], y_)\n",
    "y_pred = model.predict(X_[feats + meta_feats])"
   ]
  },
  {
   "cell_type": "markdown",
   "metadata": {},
   "source": [
    "# Final Model"
   ]
  },
  {
   "cell_type": "code",
   "execution_count": null,
   "metadata": {
    "scrolled": true
   },
   "outputs": [],
   "source": [
    "# Now Train Final Model, and use original constants instead of meta_features\n",
    "X_ = df.loc[:, feats + meta_orig]\n",
    "y_ = df.loc[:, final_targ]\n",
    "model.fit(X_[feats + meta_orig], y_)"
   ]
  },
  {
   "cell_type": "code",
   "execution_count": null,
   "metadata": {},
   "outputs": [],
   "source": [
    "y_pred = model.predict(df.loc[:, feats + meta_feats])\n",
    "print(np.log(mean_absolute_error(y_, y_pred))) # See performance on meta features"
   ]
  },
  {
   "cell_type": "code",
   "execution_count": null,
   "metadata": {},
   "outputs": [],
   "source": [
    "del X_, y_, X_train, X_test, y_train, y_test, df_orig\n",
    "gc.collect()"
   ]
  },
  {
   "cell_type": "markdown",
   "metadata": {},
   "source": [
    "# Submission"
   ]
  },
  {
   "cell_type": "code",
   "execution_count": null,
   "metadata": {},
   "outputs": [],
   "source": [
    "%%time\n",
    "X_final_ids = X_final.loc[:, 'id']\n",
    "X_final = X_final.drop(['id'], axis=1)\n",
    "\n",
    "# Prepare for Predictions\n",
    "X_final = X_final.loc[:, feats + meta_feats]\n",
    "X_final = reduce_mem_usage(X_final)\n",
    "gc.collect()"
   ]
  },
  {
   "cell_type": "code",
   "execution_count": null,
   "metadata": {},
   "outputs": [],
   "source": [
    "X_final = pd.DataFrame(np.nan_to_num(X_final[feats + meta_feats]), columns=feats + meta_feats)\n",
    "print(X_final.columns)\n",
    "pred = model.predict(X_final)"
   ]
  },
  {
   "cell_type": "code",
   "execution_count": null,
   "metadata": {},
   "outputs": [],
   "source": [
    "final_submission = pd.concat([X_final_ids, pd.Series(pred)], axis=1)\n",
    "final_submission.columns = ['id', 'scalar_coupling_constant']"
   ]
  },
  {
   "cell_type": "code",
   "execution_count": null,
   "metadata": {},
   "outputs": [],
   "source": [
    "from IPython.display import HTML\n",
    "import base64\n",
    "\n",
    "def create_download_link(df, title = \"Download CSV file\", filename = \"submission.csv\"):  \n",
    "    csv = df.to_csv(header=True, index=False)\n",
    "    b64 = base64.b64encode(csv.encode())\n",
    "    payload = b64.decode()\n",
    "    html = '<a download=\"{filename}\" href=\"data:text/csv;base64,{payload}\" target=\"_blank\">{title}</a>'\n",
    "    html = html.format(payload=payload,title=title,filename=filename)\n",
    "    return HTML(html)\n",
    "\n",
    "# create_download_link(final_submission_xgb)\n",
    "final_submission.to_csv('submission.csv', header=True, index=False)"
   ]
  }
 ],
 "metadata": {
  "kernelspec": {
   "display_name": "Python 3",
   "language": "python",
   "name": "python3"
  },
  "language_info": {
   "codemirror_mode": {
    "name": "ipython",
    "version": 3
   },
   "file_extension": ".py",
   "mimetype": "text/x-python",
   "name": "python",
   "nbconvert_exporter": "python",
   "pygments_lexer": "ipython3",
   "version": "3.7.1"
  }
 },
 "nbformat": 4,
 "nbformat_minor": 1
}
