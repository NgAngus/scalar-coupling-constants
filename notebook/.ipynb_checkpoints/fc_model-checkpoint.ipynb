{
 "cells": [
  {
   "cell_type": "code",
   "execution_count": 117,
   "metadata": {},
   "outputs": [],
   "source": [
    "import numpy as np\n",
    "import pandas as pd\n",
    "import matplotlib.pyplot as plt\n",
    "import seaborn as sns\n",
    "from scipy.stats import kurtosis\n",
    "%matplotlib inline\n",
    "\n",
    "from tools import *\n",
    "\n",
    "import os\n",
    "import warnings\n",
    "warnings.filterwarnings('ignore')\n",
    "import gc\n",
    "\n",
    "# Random Forest\n",
    "from sklearn.ensemble import RandomForestRegressor\n",
    "from sklearn.metrics import mean_absolute_error\n",
    "from sklearn.model_selection import GroupShuffleSplit, GroupKFold, cross_val_score\n",
    "\n",
    "CACHE_PATH = '/Users/angus/Downloads/kaggle/'\n",
    "cpath = lambda x: CACHE_PATH + x"
   ]
  },
  {
   "cell_type": "code",
   "execution_count": 237,
   "metadata": {},
   "outputs": [],
   "source": [
    "df = pd.read_pickle(cpath('df_feats_enc'))"
   ]
  },
  {
   "cell_type": "markdown",
   "metadata": {},
   "source": [
    "#### Feature Engineering"
   ]
  },
  {
   "cell_type": "code",
   "execution_count": 239,
   "metadata": {
    "scrolled": true
   },
   "outputs": [
    {
     "name": "stdout",
     "output_type": "stream",
     "text": [
      "(1163253, 65)\n",
      "21250\n"
     ]
    }
   ],
   "source": [
    "df = get_portion(df, 0.25)\n",
    "print(df.shape)\n",
    "print(df.molecule_name.nunique())"
   ]
  },
  {
   "cell_type": "code",
   "execution_count": 240,
   "metadata": {
    "scrolled": true
   },
   "outputs": [
    {
     "name": "stdout",
     "output_type": "stream",
     "text": [
      "Dipole information found...computing dipole features.\n"
     ]
    }
   ],
   "source": [
    "df = get_dipole_feats(df)"
   ]
  },
  {
   "cell_type": "code",
   "execution_count": 241,
   "metadata": {},
   "outputs": [
    {
     "name": "stdout",
     "output_type": "stream",
     "text": [
      "CPU times: user 1min 40s, sys: 3.12 s, total: 1min 44s\n",
      "Wall time: 1min 30s\n",
      "CPU times: user 1min 41s, sys: 2.5 s, total: 1min 43s\n",
      "Wall time: 1min 32s\n"
     ]
    },
    {
     "data": {
      "text/plain": [
       "357"
      ]
     },
     "execution_count": 241,
     "metadata": {},
     "output_type": "execute_result"
    }
   ],
   "source": [
    "%time df = get_nth_mindist(df, n=2)\n",
    "%time df = get_nth_mindist(df, n=3)\n",
    "gc.collect()"
   ]
  },
  {
   "cell_type": "markdown",
   "metadata": {},
   "source": [
    "#### Get holdout set"
   ]
  },
  {
   "cell_type": "code",
   "execution_count": 243,
   "metadata": {},
   "outputs": [],
   "source": [
    "gss = GroupKFold(n_splits=4)\n",
    "train_idxs, test_idxs = next(gss.split(df, groups=df['molecule_name']))\n",
    "df, holdout = df.iloc[train_idxs].reset_index(drop=True), df.iloc[test_idxs].reset_index(drop=True)\n",
    "gc.collect()"
   ]
  },
  {
   "cell_type": "markdown",
   "metadata": {},
   "source": [
    "#### Meta-feature generation"
   ]
  },
  {
   "cell_type": "code",
   "execution_count": 256,
   "metadata": {},
   "outputs": [],
   "source": [
    "meta_model = RandomForestRegressor(n_jobs=-1)"
   ]
  },
  {
   "cell_type": "code",
   "execution_count": 257,
   "metadata": {
    "scrolled": true
   },
   "outputs": [
    {
     "name": "stdout",
     "output_type": "stream",
     "text": [
      "Score mean: -4.944435742894482\n",
      "Score std: 0.0038497008090686018\n",
      "CPU times: user 12min 59s, sys: 9.41 s, total: 13min 9s\n",
      "Wall time: 1min 26s\n"
     ]
    }
   ],
   "source": [
    "%%time\n",
    "feats = ['atom_0_min_dist', 'atom_0_kur_dist', 'n_H', 'atom_0_min_dist3',\n",
    "       'atom_0_min_dist2', 'atom_0_med_dist', 'atom_0_max_dist',\n",
    "       'mol_med_dist', 'atom_0_mean_dist', 'atom_0_std_dist']\n",
    "target = 'mulliken_charge'\n",
    "meta_col = f'{target}_meta'\n",
    "df[meta_col] = 0\n",
    "gss = GroupKFold(n_splits=10)\n",
    "X, y = df, df[target]\n",
    "scores = []\n",
    "for train_idxs, test_idxs in gss.split(X[feats], y, groups=df['molecule_name']):\n",
    "    X_train, X_test, y_train, y_test = X.iloc[train_idxs], X.iloc[test_idxs], y.iloc[train_idxs], y.iloc[test_idxs]\n",
    "    # Train meta_model using Training Set\n",
    "    meta_model.fit(X_train[feats], y_train)\n",
    "    y_pred = meta_model.predict(X_test[feats])\n",
    "    # Place predictions in DataFrame\n",
    "    df.loc[test_idxs, meta_col] = y_pred\n",
    "    scores.append(mean_absolute_error(y_test, y_pred))\n",
    "    gc.collect()\n",
    "print('Score mean:', np.mean(np.log(scores)))\n",
    "print('Score std:', np.std(np.log(scores)))"
   ]
  },
  {
   "cell_type": "code",
   "execution_count": 258,
   "metadata": {
    "scrolled": false
   },
   "outputs": [
    {
     "data": {
      "text/plain": [
       "0.007122985314325419"
      ]
     },
     "execution_count": 258,
     "metadata": {},
     "output_type": "execute_result"
    }
   ],
   "source": [
    "mean_absolute_error(df.mulliken_charge, df.mulliken_charge_meta)"
   ]
  },
  {
   "cell_type": "markdown",
   "metadata": {},
   "source": [
    "#### Meta-feature model generation"
   ]
  },
  {
   "cell_type": "code",
   "execution_count": 261,
   "metadata": {},
   "outputs": [
    {
     "name": "stdout",
     "output_type": "stream",
     "text": [
      "CPU times: user 1min 32s, sys: 867 ms, total: 1min 33s\n",
      "Wall time: 9.43 s\n"
     ]
    },
    {
     "data": {
      "text/plain": [
       "RandomForestRegressor(bootstrap=True, criterion='mse', max_depth=None,\n",
       "           max_features='auto', max_leaf_nodes=None,\n",
       "           min_impurity_decrease=0.0, min_impurity_split=None,\n",
       "           min_samples_leaf=1, min_samples_split=2,\n",
       "           min_weight_fraction_leaf=0.0, n_estimators=10, n_jobs=-1,\n",
       "           oob_score=False, random_state=None, verbose=0, warm_start=False)"
      ]
     },
     "execution_count": 261,
     "metadata": {},
     "output_type": "execute_result"
    }
   ],
   "source": [
    "%time meta_model.fit(X[feats], y)"
   ]
  },
  {
   "cell_type": "markdown",
   "metadata": {},
   "source": [
    "### Target Modelling"
   ]
  },
  {
   "cell_type": "markdown",
   "metadata": {},
   "source": [
    "#### Feature Selection"
   ]
  },
  {
   "cell_type": "code",
   "execution_count": 291,
   "metadata": {},
   "outputs": [],
   "source": [
    "feats = [\n",
    "    'molecule_name',\n",
    "    'atom_index_0', 'atom_index_1',\n",
    "    'scalar_coupling_constant',\n",
    "#     'fc', 'sd', 'pso', 'dso', 'mulliken_charge',\n",
    "#     'dip_x', 'dip_y', 'dip_z',\n",
    "    'potential_energy',\n",
    "#     'XX', 'YX', 'ZX', 'XY', 'YY', 'ZY', 'XZ', 'YZ', 'ZZ',\n",
    "    'atom_0',\n",
    "#     'x_0', 'y_0', 'z_0', 'x_1', 'y_1', 'z_1',\n",
    "    'dist', 'n_C', 'n_H', 'n_N', \n",
    "    'mol_min_dist', 'mol_max_dist', 'mol_mean_dist', 'mol_med_dist', 'mol_kur_dist',\n",
    "    'mol_std_dist', 'atom_0_min_dist', 'atom_0_max_dist',\n",
    "    'atom_0_mean_dist', 'atom_0_med_dist', 'atom_0_kur_dist',\n",
    "    'atom_0_std_dist', 'atom_1_min_dist', 'atom_1_max_dist',\n",
    "    'atom_1_mean_dist', 'atom_1_med_dist', 'atom_1_kur_dist',\n",
    "    'atom_1_std_dist', 'nearby_C', 'nearby_H', 'nearby_N', 'atom_1_C',\n",
    "    'atom_1_H', 'atom_1_N', 'type_1JHC', 'type_1JHN', 'type_2JHC',\n",
    "    'type_2JHH', 'type_2JHN', 'type_3JHC', 'type_3JHH', 'type_3JHN',\n",
    "    'atom_0_min_dist2',\n",
    "    'atom_0_min_dist3',\n",
    "]\n",
    "selected = []\n",
    "feats = list(set(feats).intersection(set(selected)))\n",
    "meta_feats = ['mulliken_charge']\n",
    "ids = ['scalar_coupling_constant', 'molecule_name', 'fc', 'atom_0']\n",
    "feats = list(set(feats) - set(ids))"
   ]
  },
  {
   "cell_type": "code",
   "execution_count": 295,
   "metadata": {},
   "outputs": [
    {
     "data": {
      "text/plain": [
       "Index(['molecule_name', 'atom_index_0', 'atom_index_1',\n",
       "       'scalar_coupling_constant', 'fc', 'sd', 'pso', 'dso', 'mulliken_charge',\n",
       "       'dip_x', 'dip_y', 'dip_z', 'potential_energy', 'XX', 'YX', 'ZX', 'XY',\n",
       "       'YY', 'ZY', 'XZ', 'YZ', 'ZZ', 'atom_0', 'x_0', 'y_0', 'z_0', 'x_1',\n",
       "       'y_1', 'z_1', 'dist', 'n_C', 'n_H', 'n_N', 'mol_min_dist',\n",
       "       'mol_max_dist', 'mol_mean_dist', 'mol_med_dist', 'mol_kur_dist',\n",
       "       'mol_std_dist', 'atom_0_min_dist', 'atom_0_max_dist',\n",
       "       'atom_0_mean_dist', 'atom_0_med_dist', 'atom_0_kur_dist',\n",
       "       'atom_0_std_dist', 'atom_1_min_dist', 'atom_1_max_dist',\n",
       "       'atom_1_mean_dist', 'atom_1_med_dist', 'atom_1_kur_dist',\n",
       "       'atom_1_std_dist', 'nearby_C', 'nearby_H', 'nearby_N', 'atom_1_C',\n",
       "       'atom_1_H', 'atom_1_N', 'type_1JHC', 'type_1JHN', 'type_2JHC',\n",
       "       'type_2JHH', 'type_2JHN', 'type_3JHC', 'type_3JHH', 'type_3JHN',\n",
       "       'dip_mag', 'has_dip', 'dip_angle', 'atom_0_min_dist2',\n",
       "       'atom_0_min_dist3', 'mulliken_charge_meta_2', 'mulliken_charge_meta'],\n",
       "      dtype='object')"
      ]
     },
     "execution_count": 295,
     "metadata": {},
     "output_type": "execute_result"
    }
   ],
   "source": [
    "df.columns"
   ]
  },
  {
   "cell_type": "code",
   "execution_count": 301,
   "metadata": {},
   "outputs": [],
   "source": [
    "model = RandomForestRegressor(n_jobs=-1)\n",
    "targets = ['fc', 'sd']\n",
    "top_feats = {}"
   ]
  },
  {
   "cell_type": "code",
   "execution_count": 293,
   "metadata": {
    "scrolled": false
   },
   "outputs": [
    {
     "name": "stdout",
     "output_type": "stream",
     "text": [
      "CPU times: user 4min 40s, sys: 2.33 s, total: 4min 42s\n",
      "Wall time: 29.5 s\n"
     ]
    },
    {
     "data": {
      "text/plain": [
       "RandomForestRegressor(bootstrap=True, criterion='mse', max_depth=None,\n",
       "           max_features='auto', max_leaf_nodes=None,\n",
       "           min_impurity_decrease=0.0, min_impurity_split=None,\n",
       "           min_samples_leaf=1, min_samples_split=2,\n",
       "           min_weight_fraction_leaf=0.0, n_estimators=10, n_jobs=-1,\n",
       "           oob_score=False, random_state=None, verbose=0, warm_start=False)"
      ]
     },
     "execution_count": 293,
     "metadata": {},
     "output_type": "execute_result"
    }
   ],
   "source": [
    "# LEVEL 2 FEATURE ACCURACY\n",
    "for target in targets:\n",
    "    model.fit(df[feats + meta_feats], df[target])\n",
    "    print('Target:', target)\n",
    "    print('Error:', np.log(mean_absolute_error(holdout[target], model.predict(holdout[feats + meta_feats]))))\n",
    "    top_feats[target] = importances(feats + meta_feats, model).head(20).index"
   ]
  },
  {
   "cell_type": "code",
   "execution_count": 300,
   "metadata": {},
   "outputs": [
    {
     "data": {
      "text/plain": [
       "Index(['dist', 'atom_0_min_dist3', 'atom_1_min_dist', 'atom_0_min_dist',\n",
       "       'atom_0_std_dist', 'nearby_C', 'atom_0_min_dist2', 'atom_0_max_dist',\n",
       "       'atom_1_max_dist', 'atom_0_mean_dist', 'atom_0_kur_dist',\n",
       "       'atom_1_std_dist', 'atom_1_med_dist', 'type_1JHN', 'atom_1_kur_dist',\n",
       "       'type_2JHC', 'mulliken_charge', 'mulliken_charge', 'atom_1_mean_dist',\n",
       "       'type_1JHC'],\n",
       "      dtype='object')"
      ]
     },
     "execution_count": 300,
     "metadata": {},
     "output_type": "execute_result"
    }
   ],
   "source": []
  },
  {
   "cell_type": "code",
   "execution_count": 294,
   "metadata": {},
   "outputs": [
    {
     "data": {
      "text/plain": [
       "-4.55914129784959"
      ]
     },
     "execution_count": 294,
     "metadata": {},
     "output_type": "execute_result"
    }
   ],
   "source": [
    "np.log(mean_absolute_error(holdout[target], model.predict(holdout[feats + meta_feats])))"
   ]
  }
 ],
 "metadata": {
  "kernelspec": {
   "display_name": "Python 3",
   "language": "python",
   "name": "python3"
  },
  "language_info": {
   "codemirror_mode": {
    "name": "ipython",
    "version": 3
   },
   "file_extension": ".py",
   "mimetype": "text/x-python",
   "name": "python",
   "nbconvert_exporter": "python",
   "pygments_lexer": "ipython3",
   "version": "3.7.1"
  }
 },
 "nbformat": 4,
 "nbformat_minor": 2
}
