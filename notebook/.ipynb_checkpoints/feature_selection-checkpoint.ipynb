{
 "cells": [
  {
   "cell_type": "code",
   "execution_count": 1,
   "metadata": {},
   "outputs": [],
   "source": [
    "import numpy as np\n",
    "import pandas as pd\n",
    "import matplotlib.pyplot as plt\n",
    "import seaborn as sns\n",
    "%matplotlib inline\n",
    "\n",
    "from tools import *\n",
    "\n",
    "import os\n",
    "import warnings\n",
    "warnings.filterwarnings('ignore')\n",
    "\n",
    "import gc\n",
    "import joblib\n",
    "\n",
    "from itertools import compress\n",
    "\n",
    "# Random Forest\n",
    "from sklearn.ensemble import RandomForestRegressor\n",
    "from sklearn.metrics import mean_absolute_error\n",
    "from sklearn.model_selection import GroupShuffleSplit, cross_val_score\n",
    "\n",
    "CACHE_PATH = '/Users/angus/Downloads/kaggle/'\n",
    "cpath = lambda x: CACHE_PATH + x"
   ]
  },
  {
   "cell_type": "code",
   "execution_count": 7,
   "metadata": {
    "scrolled": true
   },
   "outputs": [],
   "source": [
    "from sklearn.feature_selection import SelectFromModel"
   ]
  },
  {
   "cell_type": "code",
   "execution_count": 2,
   "metadata": {},
   "outputs": [],
   "source": [
    "df = pd.read_pickle(cpath('df_feats_enc'))\n",
    "df_structures = pd.read_csv('../input/structures.csv');"
   ]
  },
  {
   "cell_type": "code",
   "execution_count": 3,
   "metadata": {},
   "outputs": [],
   "source": [
    "df = get_portion(df, r=0.25)"
   ]
  },
  {
   "cell_type": "code",
   "execution_count": 5,
   "metadata": {},
   "outputs": [],
   "source": [
    "feats = [\n",
    "    'molecule_name', 'atom_index_0', 'atom_index_1', 'scalar_coupling_constant',\n",
    "#     'fc', 'sd', 'pso', 'dso',\n",
    "#     'mulliken_charge',\n",
    "#     'dip_x', 'dip_y', 'dip_z',\n",
    "#     'potential_energy',\n",
    "#     'XX', 'YX', 'ZX', 'XY','YY', 'ZY', 'XZ', 'YZ', 'ZZ',\n",
    "#     'atom_0',\n",
    "    'x_0', 'y_0', 'z_0', 'x_1', 'y_1', 'z_1',\n",
    "    'dist',\n",
    "    'n_C', 'n_H', 'n_N',\n",
    "    'mol_min_dist', 'mol_max_dist', 'mol_mean_dist', 'mol_med_dist', 'mol_kur_dist', 'mol_std_dist',\n",
    "    'atom_0_min_dist', 'atom_0_max_dist', 'atom_0_mean_dist', 'atom_0_med_dist', 'atom_0_kur_dist', 'atom_0_std_dist',\n",
    "    'atom_1_min_dist', 'atom_1_max_dist', 'atom_1_mean_dist', 'atom_1_med_dist', 'atom_1_kur_dist', 'atom_1_std_dist',\n",
    "    'nearby_C', 'nearby_H', 'nearby_N',\n",
    "    'type',\n",
    "    'atom_1',\n",
    "]\n",
    "meta_feats = ['fc_pred', 'sd_pred', 'pso_pred', 'dso_pred']\n",
    "categoricals = ['type', 'atom_1']\n",
    "info_cols = ['molecule_name', 'atom_index_0', 'atom_index_1', 'scalar_coupling_constant']\n",
    "feats = list(set(feats) - set(categoricals) - set(info_cols))"
   ]
  },
  {
   "cell_type": "markdown",
   "metadata": {},
   "source": [
    "# For Each Level-1 Model"
   ]
  },
  {
   "cell_type": "code",
   "execution_count": 6,
   "metadata": {},
   "outputs": [
    {
     "name": "stdout",
     "output_type": "stream",
     "text": [
      "TARGET: fc\n",
      "FEATURES (n = 32):\n",
      "mol_max_dist        y_0                 x_1\n",
      "atom_1_kur_dist     x_0                 atom_0_kur_dist\n",
      "atom_1_max_dist     atom_1_min_dist     mol_min_dist\n",
      "mol_std_dist        nearby_H            y_1\n",
      "z_1                 atom_1_mean_dist    nearby_C\n",
      "mol_med_dist        nearby_N            dist\n",
      "n_N                 atom_0_min_dist     atom_1_med_dist\n",
      "atom_0_mean_dist    n_H                 n_C\n",
      "atom_1_std_dist     mol_mean_dist       mol_kur_dist\n",
      "z_0                 atom_0_med_dist     atom_0_std_dist\n",
      "---------------------------------------------------------------------------\n",
      "Returning model to generate fc.\n",
      "0.08722000076402714\n",
      "                  importance\n",
      "dist                0.937973\n",
      "atom_1_min_dist     0.029290\n",
      "atom_0_min_dist     0.008179\n",
      "nearby_N            0.007167\n",
      "nearby_C            0.006579\n",
      "atom_0_std_dist     0.001321\n",
      "atom_0_max_dist     0.001117\n",
      "atom_1_max_dist     0.000952\n",
      "atom_1_med_dist     0.000945\n",
      "atom_0_med_dist     0.000650\n",
      "atom_1_kur_dist     0.000634\n",
      "atom_0_kur_dist     0.000607\n",
      "n_H                 0.000585\n",
      "atom_0_mean_dist    0.000532\n",
      "atom_1_std_dist     0.000454\n",
      "atom_1_mean_dist    0.000435\n",
      "mol_med_dist        0.000305\n",
      "nearby_H            0.000273\n",
      "mol_mean_dist       0.000243\n",
      "y_1                 0.000233\n",
      "mol_max_dist        0.000216\n",
      "y_0                 0.000209\n",
      "mol_kur_dist        0.000181\n",
      "mol_min_dist        0.000161\n",
      "mol_std_dist        0.000157\n",
      "x_0                 0.000121\n",
      "x_1                 0.000114\n",
      "z_0                 0.000114\n",
      "z_1                 0.000109\n",
      "n_N                 0.000090\n",
      "n_C                 0.000057\n",
      "CPU times: user 9min 48s, sys: 2.91 s, total: 9min 50s\n",
      "Wall time: 3min 19s\n"
     ]
    }
   ],
   "source": [
    "%%time\n",
    "target = 'fc'\n",
    "X = df.loc[:, feats + ['molecule_name']]\n",
    "y = df.loc[:, [target]]\n",
    "\n",
    "fc_model = constant_model(X, y, feats, target)\n",
    "print(importances(feats, fc_model))"
   ]
  },
  {
   "cell_type": "markdown",
   "metadata": {},
   "source": [
    "# Functionalize"
   ]
  },
  {
   "cell_type": "code",
   "execution_count": 11,
   "metadata": {},
   "outputs": [],
   "source": [
    "def select_features(model, X, y, feats, threshold=0.0001):\n",
    "    sfm = SelectFromModel(model, threshold=threshold)\n",
    "    sfm.fit(X[feats], y)\n",
    "    n_features = sfm.transform(X[feats]).shape[1]\n",
    "    while 2*n_features > len(feats):\n",
    "        sfm.threshold += 0.0001\n",
    "        X_transform = sfm.transform(X[feats])\n",
    "        n_features = X_transform.shape[1]\n",
    "        \n",
    "    print(f'Reduced from {len(feats)} to {n_features}.')\n",
    "    feats_selected = list(compress(feats, sfm.get_support()))\n",
    "    print(feats_selected)\n",
    "    return feats_selected"
   ]
  },
  {
   "cell_type": "code",
   "execution_count": 12,
   "metadata": {},
   "outputs": [
    {
     "name": "stdout",
     "output_type": "stream",
     "text": [
      "Reduced from 31 to 14.\n",
      "['atom_1_kur_dist', 'atom_0_kur_dist', 'atom_1_max_dist', 'atom_1_min_dist', 'nearby_C', 'nearby_N', 'dist', 'atom_0_min_dist', 'atom_1_med_dist', 'atom_0_mean_dist', 'n_H', 'atom_0_med_dist', 'atom_0_std_dist', 'atom_0_max_dist']\n",
      "CPU times: user 5min 21s, sys: 2.72 s, total: 5min 24s\n",
      "Wall time: 14min 42s\n"
     ]
    }
   ],
   "source": [
    "%%time\n",
    "rf = RandomForestRegressor(n_jobs=1)\n",
    "feats_selected = select_features(rf, X, y, feats)"
   ]
  },
  {
   "cell_type": "markdown",
   "metadata": {},
   "source": [
    "### Assess the performance after feature selection"
   ]
  },
  {
   "cell_type": "code",
   "execution_count": 13,
   "metadata": {},
   "outputs": [
    {
     "name": "stdout",
     "output_type": "stream",
     "text": [
      "TARGET: fc\n",
      "FEATURES (n = 15):\n",
      "atom_1_kur_dist     atom_0_kur_dist     atom_1_max_dist\n",
      "atom_1_min_dist     nearby_C            nearby_N\n",
      "dist                atom_0_min_dist     atom_1_med_dist\n",
      "atom_0_mean_dist    n_H                 atom_0_med_dist\n",
      "---------------------------------------------------------------------------\n",
      "Returning model to generate fc.\n",
      "0.03914798675902478\n",
      "                  importance\n",
      "dist                0.939144\n",
      "atom_1_min_dist     0.029687\n",
      "nearby_C            0.010077\n",
      "atom_0_min_dist     0.007283\n",
      "nearby_N            0.003817\n",
      "atom_0_std_dist     0.001556\n",
      "atom_1_med_dist     0.001445\n",
      "atom_0_max_dist     0.001350\n",
      "atom_1_max_dist     0.001269\n",
      "atom_1_kur_dist     0.001109\n",
      "atom_0_med_dist     0.000886\n",
      "atom_0_kur_dist     0.000863\n",
      "atom_0_mean_dist    0.000831\n",
      "n_H                 0.000684\n",
      "CPU times: user 4min 10s, sys: 2.06 s, total: 4min 12s\n",
      "Wall time: 1min 26s\n"
     ]
    }
   ],
   "source": [
    "%%time\n",
    "target = 'fc'\n",
    "fc_model_ = constant_model(X[feats_selected + ['molecule_name']], y, feats_selected, target)\n",
    "print(importances(feats_selected, fc_model_))"
   ]
  }
 ],
 "metadata": {
  "kernelspec": {
   "display_name": "Python 3",
   "language": "python",
   "name": "python3"
  },
  "language_info": {
   "codemirror_mode": {
    "name": "ipython",
    "version": 3
   },
   "file_extension": ".py",
   "mimetype": "text/x-python",
   "name": "python",
   "nbconvert_exporter": "python",
   "pygments_lexer": "ipython3",
   "version": "3.7.1"
  }
 },
 "nbformat": 4,
 "nbformat_minor": 2
}
