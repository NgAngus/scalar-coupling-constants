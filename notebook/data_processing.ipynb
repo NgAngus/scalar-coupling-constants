{
 "cells": [
  {
   "cell_type": "code",
   "execution_count": 1,
   "metadata": {
    "_cell_guid": "b1076dfc-b9ad-4769-8c92-a6c4dae69d19",
    "_uuid": "8f2839f25d086af736a60e9eeb907d3b93b6e0e5",
    "scrolled": true
   },
   "outputs": [],
   "source": [
    "import numpy as np\n",
    "import pandas as pd\n",
    "from tools import *\n",
    "import os\n",
    "import warnings\n",
    "warnings.filterwarnings('ignore')\n",
    "import gc"
   ]
  },
  {
   "cell_type": "code",
   "execution_count": 2,
   "metadata": {},
   "outputs": [],
   "source": [
    "CACHE_PATH = '/Users/angus/Downloads/kaggle/'\n",
    "cpath = lambda x: CACHE_PATH + x"
   ]
  },
  {
   "cell_type": "code",
   "execution_count": 8,
   "metadata": {
    "_cell_guid": "79c7e3d0-c299-4dcb-8224-4455121ee9b0",
    "_uuid": "d629ff2d2480ee46fbb7e2d37f6b5fab8052498a"
   },
   "outputs": [],
   "source": [
    "df_orig = pd.read_pickle(cpath('base_data')) #pd.read_csv('../input/train.csv', index_col='id')\n",
    "df_structures = pd.read_csv('../input/structures.csv');\n",
    "df_scc = pd.read_csv('../input/scalar_coupling_contributions.csv');"
   ]
  },
  {
   "cell_type": "code",
   "execution_count": 4,
   "metadata": {},
   "outputs": [],
   "source": [
    "join_keys = ['molecule_name', 'atom_index_0', 'atom_index_1', 'type']\n",
    "df_orig = pd.merge(df_orig, df_scc, how ='left', on=join_keys)\n",
    "del df_scc"
   ]
  },
  {
   "cell_type": "code",
   "execution_count": 5,
   "metadata": {},
   "outputs": [],
   "source": [
    "df_mull = pd.read_csv('../input/mulliken_charges.csv')\n",
    "join_keys = ['molecule_name', 'atom_index_0']\n",
    "df_orig = pd.merge(df_orig, df_mull, how='left', left_on=join_keys, right_on=['molecule_name', 'atom_index'])\n",
    "df_orig = df_orig.drop(labels=['atom_index'], axis='columns')\n",
    "del df_mull"
   ]
  },
  {
   "cell_type": "code",
   "execution_count": 6,
   "metadata": {},
   "outputs": [],
   "source": [
    "df_dip = pd.read_csv('../input/dipole_moments.csv')\n",
    "df_dip.columns = ['molecule_name','dip_x', 'dip_y', 'dip_z']\n",
    "df_orig = pd.merge(df_orig, df_dip, how='left', on=['molecule_name'])\n",
    "del df_dip"
   ]
  },
  {
   "cell_type": "code",
   "execution_count": 7,
   "metadata": {},
   "outputs": [],
   "source": [
    "df_pe = pd.read_csv('../input/potential_energy.csv')\n",
    "df_orig = pd.merge(df_orig, df_pe, how='left', on=['molecule_name'])\n",
    "del df_pe"
   ]
  },
  {
   "cell_type": "code",
   "execution_count": 8,
   "metadata": {},
   "outputs": [],
   "source": [
    "df_mag = pd.read_csv('../input/magnetic_shielding_tensors.csv')\n",
    "join_keys = ['molecule_name', 'atom_index_0']\n",
    "df_orig = pd.merge(df_orig, df_mag, how='left', left_on=join_keys, right_on=['molecule_name', 'atom_index'])\n",
    "df_orig = df_orig.drop(labels=['atom_index'], axis='columns')\n",
    "del df_mag"
   ]
  },
  {
   "cell_type": "code",
   "execution_count": 11,
   "metadata": {},
   "outputs": [],
   "source": [
    "assert not df_orig.isnull().any().any()"
   ]
  },
  {
   "cell_type": "code",
   "execution_count": 12,
   "metadata": {},
   "outputs": [
    {
     "name": "stdout",
     "output_type": "stream",
     "text": [
      "Mem. usage decreased to 284.31 Mb (0.0% reduction)\n",
      "Mem. usage decreased to 51.74 Mb (52.1% reduction)\n"
     ]
    }
   ],
   "source": [
    "df_orig = reduce_mem_usage(df_orig)\n",
    "df_structures = reduce_mem_usage(df_structures)"
   ]
  },
  {
   "cell_type": "code",
   "execution_count": 13,
   "metadata": {
    "scrolled": true
   },
   "outputs": [
    {
     "data": {
      "text/plain": [
       "503"
      ]
     },
     "execution_count": 13,
     "metadata": {},
     "output_type": "execute_result"
    }
   ],
   "source": [
    "df = df_orig\n",
    "gc.collect()"
   ]
  },
  {
   "cell_type": "code",
   "execution_count": 14,
   "metadata": {},
   "outputs": [
    {
     "data": {
      "text/plain": [
       "Index(['molecule_name', 'atom_index_0', 'atom_index_1', 'type',\n",
       "       'scalar_coupling_constant', 'fc', 'sd', 'pso', 'dso', 'mulliken_charge',\n",
       "       'dip_x', 'dip_y', 'dip_z', 'potential_energy', 'XX', 'YX', 'ZX', 'XY',\n",
       "       'YY', 'ZY', 'XZ', 'YZ', 'ZZ'],\n",
       "      dtype='object')"
      ]
     },
     "execution_count": 14,
     "metadata": {},
     "output_type": "execute_result"
    }
   ],
   "source": [
    "df.columns"
   ]
  },
  {
   "cell_type": "code",
   "execution_count": 15,
   "metadata": {
    "scrolled": true
   },
   "outputs": [
    {
     "name": "stdout",
     "output_type": "stream",
     "text": [
      "CPU times: user 7min 13s, sys: 23 s, total: 7min 36s\n",
      "Wall time: 5min 49s\n"
     ]
    }
   ],
   "source": [
    "%time df = featurize(df, df_structures)"
   ]
  },
  {
   "cell_type": "code",
   "execution_count": 16,
   "metadata": {},
   "outputs": [],
   "source": [
    "df.to_pickle(cpath('df_feats'))"
   ]
  },
  {
   "cell_type": "code",
   "execution_count": 17,
   "metadata": {},
   "outputs": [
    {
     "name": "stdout",
     "output_type": "stream",
     "text": [
      "CPU times: user 29.2 s, sys: 3.3 s, total: 32.5 s\n",
      "Wall time: 19.7 s\n"
     ]
    }
   ],
   "source": [
    "%time df = encode_cols(df, ['atom_1', 'type'])"
   ]
  },
  {
   "cell_type": "code",
   "execution_count": 18,
   "metadata": {},
   "outputs": [],
   "source": [
    "df.to_pickle(cpath('df_feats_enc'))"
   ]
  },
  {
   "cell_type": "code",
   "execution_count": 19,
   "metadata": {},
   "outputs": [
    {
     "data": {
      "text/plain": [
       "Index(['molecule_name', 'atom_index_0', 'atom_index_1',\n",
       "       'scalar_coupling_constant', 'fc', 'sd', 'pso', 'dso', 'mulliken_charge',\n",
       "       'dip_x', 'dip_y', 'dip_z', 'potential_energy', 'XX', 'YX', 'ZX', 'XY',\n",
       "       'YY', 'ZY', 'XZ', 'YZ', 'ZZ', 'atom_0', 'x_0', 'y_0', 'z_0', 'x_1',\n",
       "       'y_1', 'z_1', 'dist', 'n_C', 'n_H', 'n_N', 'mol_min_dist',\n",
       "       'mol_max_dist', 'mol_mean_dist', 'mol_med_dist', 'mol_kur_dist',\n",
       "       'mol_std_dist', 'atom_0_min_dist', 'atom_0_max_dist',\n",
       "       'atom_0_mean_dist', 'atom_0_med_dist', 'atom_0_kur_dist',\n",
       "       'atom_0_std_dist', 'atom_1_min_dist', 'atom_1_max_dist',\n",
       "       'atom_1_mean_dist', 'atom_1_med_dist', 'atom_1_kur_dist',\n",
       "       'atom_1_std_dist', 'nearby_C', 'nearby_H', 'nearby_N', 'atom_1_C',\n",
       "       'atom_1_H', 'atom_1_N', 'type_1JHC', 'type_1JHN', 'type_2JHC',\n",
       "       'type_2JHH', 'type_2JHN', 'type_3JHC', 'type_3JHH', 'type_3JHN'],\n",
       "      dtype='object')"
      ]
     },
     "execution_count": 19,
     "metadata": {},
     "output_type": "execute_result"
    }
   ],
   "source": [
    "df.columns"
   ]
  },
  {
   "cell_type": "markdown",
   "metadata": {},
   "source": [
    "# Submission"
   ]
  },
  {
   "cell_type": "code",
   "execution_count": null,
   "metadata": {
    "collapsed": true
   },
   "outputs": [],
   "source": [
    "%%time\n",
    "X_final_ids = X_final.loc[:, 'id']\n",
    "X_final = X_final.drop(['id'], axis=1)\n",
    "\n",
    "# Prepare for Predictions\n",
    "X_final = X_final.loc[:, feats + meta_feats]\n",
    "X_final = reduce_mem_usage(X_final)\n",
    "gc.collect()"
   ]
  },
  {
   "cell_type": "code",
   "execution_count": null,
   "metadata": {
    "collapsed": true
   },
   "outputs": [],
   "source": [
    "X_final = pd.DataFrame(np.nan_to_num(X_final[feats + meta_feats]), columns=feats + meta_feats)\n",
    "print(X_final.columns)\n",
    "pred = model.predict(X_final)"
   ]
  },
  {
   "cell_type": "code",
   "execution_count": null,
   "metadata": {
    "collapsed": true
   },
   "outputs": [],
   "source": [
    "final_submission = pd.concat([X_final_ids, pd.Series(pred)], axis=1)\n",
    "final_submission.columns = ['id', 'scalar_coupling_constant']"
   ]
  },
  {
   "cell_type": "code",
   "execution_count": null,
   "metadata": {
    "collapsed": true
   },
   "outputs": [],
   "source": [
    "from IPython.display import HTML\n",
    "import base64\n",
    "\n",
    "def create_download_link(df, title = \"Download CSV file\", filename = \"submission.csv\"):  \n",
    "    csv = df.to_csv(header=True, index=False)\n",
    "    b64 = base64.b64encode(csv.encode())\n",
    "    payload = b64.decode()\n",
    "    html = '<a download=\"{filename}\" href=\"data:text/csv;base64,{payload}\" target=\"_blank\">{title}</a>'\n",
    "    html = html.format(payload=payload,title=title,filename=filename)\n",
    "    return HTML(html)\n",
    "\n",
    "# create_download_link(final_submission_xgb)\n",
    "final_submission.to_csv('submission.csv', header=True, index=False)"
   ]
  }
 ],
 "metadata": {
  "kernelspec": {
   "display_name": "Python 3",
   "language": "python",
   "name": "python3"
  },
  "language_info": {
   "codemirror_mode": {
    "name": "ipython",
    "version": 3
   },
   "file_extension": ".py",
   "mimetype": "text/x-python",
   "name": "python",
   "nbconvert_exporter": "python",
   "pygments_lexer": "ipython3",
   "version": "3.7.1"
  }
 },
 "nbformat": 4,
 "nbformat_minor": 1
}
