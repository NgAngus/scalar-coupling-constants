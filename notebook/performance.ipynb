{
 "cells": [
  {
   "cell_type": "code",
   "execution_count": 4,
   "metadata": {},
   "outputs": [],
   "source": [
    "import numpy as np\n",
    "import pandas as pd\n",
    "import matplotlib.pyplot as plt\n",
    "import seaborn as sns\n",
    "%matplotlib inline\n",
    " \n",
    "from tools import *\n",
    "\n",
    "import os\n",
    "import warnings\n",
    "warnings.filterwarnings('ignore')\n",
    "\n",
    "import gc\n",
    "import joblib\n",
    "\n",
    "# Random Forest\n",
    "from sklearn.ensemble import RandomForestRegressor\n",
    "from sklearn.metrics import mean_absolute_error\n",
    "from sklearn.model_selection import GroupShuffleSplit, cross_val_score"
   ]
  },
  {
   "cell_type": "code",
   "execution_count": 5,
   "metadata": {},
   "outputs": [],
   "source": [
    "CACHE_PATH = '/Users/angus/Downloads/kaggle/'\n",
    "cpath = lambda x: CACHE_PATH + x"
   ]
  },
  {
   "cell_type": "code",
   "execution_count": 93,
   "metadata": {},
   "outputs": [],
   "source": [
    "df = pd.read_pickle(cpath('base_data'))\n",
    "df_structures = pd.read_csv('../input/structures.csv');"
   ]
  },
  {
   "cell_type": "code",
   "execution_count": 94,
   "metadata": {},
   "outputs": [
    {
     "data": {
      "text/plain": [
       "(461749, 23)"
      ]
     },
     "execution_count": 94,
     "metadata": {},
     "output_type": "execute_result"
    }
   ],
   "source": [
    "df = get_portion(df, r=0.1)\n",
    "df.shape"
   ]
  },
  {
   "cell_type": "code",
   "execution_count": 95,
   "metadata": {},
   "outputs": [],
   "source": [
    "df = encode_cols(df, ['type'])"
   ]
  },
  {
   "cell_type": "markdown",
   "metadata": {},
   "source": [
    "```\n",
    "feats = ['n_H', 'y_1', 'atom_1_max_dist', 'atom_0_mean_dist', 'atom_1_med_dist',\n",
    "       'dist', 'x_0', 'z_1', 'atom_0_min_dist', 'atom_0_med_dist',\n",
    "       'atom_0_max_dist', 'nearby_C', 'n_N', 'atom_1_mean_dist',\n",
    "       'atom_1_std_dist', 'nearby_H', 'mol_med_dist', 'atom_0_std_dist', 'x_1',\n",
    "       'nearby_N', 'atom_1_kur_dist', 'mol_max_dist', 'mol_std_dist',\n",
    "       'atom_1_min_dist', 'mol_mean_dist', 'y_0', 'mol_kur_dist',\n",
    "       'atom_0_kur_dist', 'n_C', 'mol_min_dist', 'z_0', 'fc_pred', 'sd_pred',\n",
    "       'pso_pred', 'dso_pred', 'mulliken_charge_pred']\n",
    "meta_feats = ['fc_pred', 'sd_pred', 'pso_pred', 'dso_pred', 'mulliken_charge_pred']\n",
    "meta_orig = ['fc', 'sd', 'pso', 'dso', 'mulliken_charge']\n",
    "categoricals = [\n",
    "    'type',\n",
    "    'atom_1'\n",
    "]\n",
    "feats = list(set(feats) - set(categoricals) - set(meta_feats))\n",
    "```"
   ]
  },
  {
   "cell_type": "code",
   "execution_count": 96,
   "metadata": {},
   "outputs": [
    {
     "data": {
      "text/plain": [
       "Index(['molecule_name', 'atom_index_0', 'atom_index_1',\n",
       "       'scalar_coupling_constant', 'fc', 'sd', 'pso', 'dso', 'mulliken_charge',\n",
       "       'dip_x', 'dip_y', 'dip_z', 'potential_energy', 'XX', 'YX', 'ZX', 'XY',\n",
       "       'YY', 'ZY', 'XZ', 'YZ', 'ZZ', 'type_1JHC', 'type_1JHN', 'type_2JHC',\n",
       "       'type_2JHH', 'type_2JHN', 'type_3JHC', 'type_3JHH', 'type_3JHN'],\n",
       "      dtype='object')"
      ]
     },
     "execution_count": 96,
     "metadata": {},
     "output_type": "execute_result"
    }
   ],
   "source": [
    "df.columns"
   ]
  },
  {
   "cell_type": "code",
   "execution_count": 134,
   "metadata": {},
   "outputs": [],
   "source": [
    "# Looking at Initial DataFrame For Important Features for Level 1 Models\n",
    "feats = [\n",
    "    'fc', 'sd', 'pso', 'dso',\n",
    "#     'mulliken_charge',\n",
    "#     'dip_x', 'dip_y', 'dip_z',\n",
    "#     'potential_energy',\n",
    "#     'XX', 'YX', 'ZX', 'XY', 'YY', 'ZY', 'XZ', 'YZ', 'ZZ',\n",
    "    'type_1JHC', 'type_1JHN', 'type_2JHC', 'type_2JHH', 'type_2JHN', 'type_3JHC', 'type_3JHH', 'type_3JHN'\n",
    "]\n",
    "\n",
    "target = ['scalar_coupling_constant']\n",
    "grouping = ['molecule_name']"
   ]
  },
  {
   "cell_type": "code",
   "execution_count": 133,
   "metadata": {
    "scrolled": true
   },
   "outputs": [
    {
     "data": {
      "text/plain": [
       "4389"
      ]
     },
     "execution_count": 133,
     "metadata": {},
     "output_type": "execute_result"
    }
   ],
   "source": [
    "model = RandomForestRegressor(n_jobs=-1)\n",
    "gc.collect()"
   ]
  },
  {
   "cell_type": "code",
   "execution_count": 114,
   "metadata": {},
   "outputs": [],
   "source": [
    "gss = GroupShuffleSplit(n_splits=5)\n",
    "X, y = df, df[target]"
   ]
  },
  {
   "cell_type": "code",
   "execution_count": 115,
   "metadata": {},
   "outputs": [],
   "source": [
    "scores = cross_val_score(model, X[feats], y, scoring='neg_mean_absolute_error', \n",
    "                         groups=X['molecule_name'], cv=gss, n_jobs=-1)"
   ]
  },
  {
   "cell_type": "code",
   "execution_count": 101,
   "metadata": {
    "scrolled": false
   },
   "outputs": [
    {
     "name": "stdout",
     "output_type": "stream",
     "text": [
      "-3.603422944068521\n"
     ]
    }
   ],
   "source": [
    "print(np.mean(np.log(-scores))) # base + types"
   ]
  },
  {
   "cell_type": "code",
   "execution_count": 118,
   "metadata": {},
   "outputs": [],
   "source": [
    "# Try Linear Model\n",
    "from sklearn.linear_model import LinearRegression"
   ]
  },
  {
   "cell_type": "code",
   "execution_count": 135,
   "metadata": {},
   "outputs": [],
   "source": [
    "lmodel = LinearRegression(n_jobs=-1)"
   ]
  },
  {
   "cell_type": "code",
   "execution_count": 136,
   "metadata": {},
   "outputs": [
    {
     "data": {
      "text/plain": [
       "LinearRegression(copy_X=True, fit_intercept=True, n_jobs=-1, normalize=False)"
      ]
     },
     "execution_count": 136,
     "metadata": {},
     "output_type": "execute_result"
    }
   ],
   "source": [
    "lmodel.fit(X[feats], y)"
   ]
  },
  {
   "cell_type": "code",
   "execution_count": 137,
   "metadata": {},
   "outputs": [
    {
     "name": "stdout",
     "output_type": "stream",
     "text": [
      "-3.6002255716104563\n"
     ]
    }
   ],
   "source": [
    "gss = GroupShuffleSplit(n_splits=5)\n",
    "scores = cross_val_score(model, X[feats], y, scoring='neg_mean_absolute_error', \n",
    "                         groups=X['molecule_name'], cv=gss, n_jobs=-1)\n",
    "print(np.mean(np.log(-scores)))"
   ]
  },
  {
   "cell_type": "code",
   "execution_count": 140,
   "metadata": {},
   "outputs": [],
   "source": [
    "# Stacking linear and rf\n",
    "train_idxs, test_idxs = next(gss.split(X[feats], y, groups=df['molecule_name']))\n",
    "X_train, X_test, y_train, y_test = X.iloc[train_idxs], X.iloc[test_idxs], y.iloc[train_idxs], y.iloc[test_idxs]\n",
    "lmodel.fit(X_train[feats], y_train)\n",
    "model.fit(X_train[feats], y_train)\n",
    "y_pred_rf = model.predict(X_test[feats])\n",
    "y_pred_lin = lmodel.predict(X_test[feats])"
   ]
  },
  {
   "cell_type": "code",
   "execution_count": 167,
   "metadata": {},
   "outputs": [],
   "source": [
    "# Stacking linear and rf\n",
    "final_pred = np.mean(np.concatenate([np.expand_dims(y_pred_rf, axis=1), y_pred_lin], axis=1), axis=1)"
   ]
  },
  {
   "cell_type": "code",
   "execution_count": 170,
   "metadata": {},
   "outputs": [
    {
     "data": {
      "text/plain": [
       "-4.147273343609824"
      ]
     },
     "execution_count": 170,
     "metadata": {},
     "output_type": "execute_result"
    }
   ],
   "source": [
    "np.log(mean_absolute_error(y_test, final_pred))"
   ]
  },
  {
   "cell_type": "code",
   "execution_count": 170,
   "metadata": {
    "scrolled": true
   },
   "outputs": [
    {
     "data": {
      "text/plain": [
       "-4.147273343609824"
      ]
     },
     "execution_count": 170,
     "metadata": {},
     "output_type": "execute_result"
    }
   ],
   "source": [
    "np.log(mean_absolute_error(y_test, final_pred))"
   ]
  }
 ],
 "metadata": {
  "kernelspec": {
   "display_name": "Python 3",
   "language": "python",
   "name": "python3"
  },
  "language_info": {
   "codemirror_mode": {
    "name": "ipython",
    "version": 3
   },
   "file_extension": ".py",
   "mimetype": "text/x-python",
   "name": "python",
   "nbconvert_exporter": "python",
   "pygments_lexer": "ipython3",
   "version": "3.7.1"
  }
 },
 "nbformat": 4,
 "nbformat_minor": 2
}
